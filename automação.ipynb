{
 "cells": [
  {
   "cell_type": "code",
   "execution_count": 21,
   "id": "16e7cb02-824e-4b00-8cec-08ea0d0ec9fa",
   "metadata": {},
   "outputs": [],
   "source": [
    "import pyautogui \n",
    "import pyperclip \n",
    "import time \n",
    "\n",
    "#Passo 1: Entrar no sistema( no gmail) \n",
    "pyautogui.hotkey(\"ctrl\",\"t\") \n",
    "pyperclip.copy(\"https://mail.google.com/mail/u/0/#inbox\") #lINK DO EMAIL\n",
    "pyautogui.hotkey(\"ctrl\",\"v\") \n",
    "pyautogui.press(\"enter\") \n",
    "time.sleep(4)\n",
    "#Passo 2: Navegar até o email recebido \n",
    "\n",
    "pyautogui.click(x=1970, y=183)\n",
    "\n",
    "time.sleep(4)\n",
    "#Passo 3: Digital o email\n",
    "pyperclip.copy(\"albidataholdings@gmail.com\") #EMAIL A ENVIAR \n",
    "pyautogui.hotkey(\"ctrl\",\"v\")\n",
    "\n",
    "time.sleep(2)\n",
    "pyautogui.press(\"tab\") \n",
    "time.sleep(2)\n",
    "#Passo4 : Escrever o assunto do email\n",
    "pyperclip.copy(\"Relatório de Vendas\") \n",
    "pyautogui.hotkey(\"ctrl\",\"v\")\n",
    "time.sleep(1)\n",
    "pyautogui.press(\"tab\") \n",
    "#Passo 5 : Digitar o texto do email \n",
    "pyperclip.copy(\"Estimados Senhores, segue o relatório de Vendas do fim do mês. de Abril\") \n",
    "pyautogui.hotkey(\"ctrl\",\"v\") \n",
    "time.sleep(2)\n",
    "#Passo 6 : Enviar o email \n",
    "pyautogui.click(x=2888, y=774) "
   ]
  },
  {
   "cell_type": "code",
   "execution_count": 17,
   "id": "5c57e931-f5d8-419e-a6ff-083163813afa",
   "metadata": {},
   "outputs": [
    {
     "data": {
      "text/plain": [
       "Point(x=2888, y=774)"
      ]
     },
     "execution_count": 17,
     "metadata": {},
     "output_type": "execute_result"
    }
   ],
   "source": [
    "time.sleep(5)\n",
    "pyautogui.position()"
   ]
  },
  {
   "cell_type": "code",
   "execution_count": null,
   "id": "d264f24c-de30-4ed9-bb25-d76f53911cff",
   "metadata": {},
   "outputs": [],
   "source": []
  }
 ],
 "metadata": {
  "kernelspec": {
   "display_name": "Python 3 (ipykernel)",
   "language": "python",
   "name": "python3"
  },
  "language_info": {
   "codemirror_mode": {
    "name": "ipython",
    "version": 3
   },
   "file_extension": ".py",
   "mimetype": "text/x-python",
   "name": "python",
   "nbconvert_exporter": "python",
   "pygments_lexer": "ipython3",
   "version": "3.11.7"
  }
 },
 "nbformat": 4,
 "nbformat_minor": 5
}
