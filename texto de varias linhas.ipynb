{
 "cells": [
  {
   "cell_type": "code",
   "execution_count": 1,
   "id": "5c9c2be0-3ab1-4fde-b856-26c3628b447b",
   "metadata": {},
   "outputs": [],
   "source": [
    "#Sempre que você tiver no python um texto de várias linhas vc têm que escrever 3 vezes aspas no inicio e 3 vezes aspas no fim! \n",
    "\n",
    "texto= \"\"\"\n",
    "Prezados, bom dia \n",
    "\n",
    "O faturamento de ontem foi de : \n",
    "A quantidade de produtos foi de : \n",
    "\n",
    "Abs \n",
    "Youssuf Abdula\"\"\"\n",
    "\n",
    "pyperclip.copy(texto)\n",
    "pyautogui.hotkey(\"ctrl\",\"v\")"
   ]
  },
  {
   "cell_type": "code",
   "execution_count": null,
   "id": "55c60a75-01ed-4cf6-86ce-ef5ae5796380",
   "metadata": {},
   "outputs": [],
   "source": []
  }
 ],
 "metadata": {
  "kernelspec": {
   "display_name": "Python 3 (ipykernel)",
   "language": "python",
   "name": "python3"
  },
  "language_info": {
   "codemirror_mode": {
    "name": "ipython",
    "version": 3
   },
   "file_extension": ".py",
   "mimetype": "text/x-python",
   "name": "python",
   "nbconvert_exporter": "python",
   "pygments_lexer": "ipython3",
   "version": "3.11.7"
  }
 },
 "nbformat": 4,
 "nbformat_minor": 5
}
